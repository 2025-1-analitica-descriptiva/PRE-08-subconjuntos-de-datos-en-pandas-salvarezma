{
 "cells": [
  {
   "cell_type": "code",
   "execution_count": 2,
   "id": "3890c668",
   "metadata": {},
   "outputs": [
    {
     "ename": "ModuleNotFoundError",
     "evalue": "No module named 'pandas'",
     "output_type": "error",
     "traceback": [
      "\u001b[1;31m---------------------------------------------------------------------------\u001b[0m",
      "\u001b[1;31mModuleNotFoundError\u001b[0m                       Traceback (most recent call last)",
      "Cell \u001b[1;32mIn[2], line 2\u001b[0m\n\u001b[0;32m      1\u001b[0m \u001b[38;5;66;03m# %%\u001b[39;00m\n\u001b[1;32m----> 2\u001b[0m \u001b[38;5;28;01mimport\u001b[39;00m\u001b[38;5;250m \u001b[39m\u001b[38;5;21;01mpandas\u001b[39;00m\u001b[38;5;250m \u001b[39m\u001b[38;5;28;01mas\u001b[39;00m\u001b[38;5;250m \u001b[39m\u001b[38;5;21;01mpd\u001b[39;00m  \u001b[38;5;66;03m#  type: ignore\u001b[39;00m\n\u001b[0;32m      4\u001b[0m pd\u001b[38;5;241m.\u001b[39mset_option(\u001b[38;5;124m\"\u001b[39m\u001b[38;5;124mdisplay.notebook_repr_html\u001b[39m\u001b[38;5;124m\"\u001b[39m, \u001b[38;5;28;01mFalse\u001b[39;00m)\n",
      "\u001b[1;31mModuleNotFoundError\u001b[0m: No module named 'pandas'"
     ]
    }
   ],
   "source": [
    "# %%\n",
    "import pandas as pd  #  type: ignore\n",
    "\n",
    "pd.set_option(\"display.notebook_repr_html\", False)"
   ]
  },
  {
   "cell_type": "code",
   "execution_count": null,
   "id": "1e99c268",
   "metadata": {},
   "outputs": [],
   "source": [
    "# %%\n",
    "# Carga del archivo desde un repo en GitHub\n",
    "truck_events = pd.read_csv(\"../files/input/truck_event_text_partition.csv\")\n",
    "\n",
    "# Cabecera del archivo\n",
    "truck_events.head()"
   ]
  },
  {
   "cell_type": "code",
   "execution_count": null,
   "id": "9a4d8ebd",
   "metadata": {},
   "outputs": [],
   "source": [
    "# %%\n",
    "truck_events_subset = truck_events[0:10]\n",
    "truck_events_subset"
   ]
  },
  {
   "cell_type": "code",
   "execution_count": null,
   "id": "75aa7f7b",
   "metadata": {},
   "outputs": [],
   "source": [
    "# %%\n",
    "specific_columns = truck_events_subset[[\"driverId\", \"eventTime\", \"eventType\"]]\n",
    "specific_columns"
   ]
  },
  {
   "cell_type": "code",
   "execution_count": null,
   "id": "f9e05fbe",
   "metadata": {},
   "outputs": [],
   "source": [
    "# %%\n",
    "new_sub_set = truck_events.loc[0:10, [\"driverId\", \"eventTime\", \"eventType\"]]\n",
    "new_sub_set"
   ]
  },
  {
   "cell_type": "code",
   "execution_count": null,
   "id": "d3ad6941",
   "metadata": {},
   "outputs": [],
   "source": [
    "# %%\n",
    "truck_events.iloc[1]"
   ]
  },
  {
   "cell_type": "code",
   "execution_count": null,
   "id": "e917b1c2",
   "metadata": {},
   "outputs": [],
   "source": [
    "# %%\n",
    "truck_events.iloc[1].eventKey"
   ]
  },
  {
   "cell_type": "code",
   "execution_count": null,
   "id": "773cac39",
   "metadata": {},
   "outputs": [],
   "source": [
    "# %%\n",
    "truck_events.iloc[1][\"eventKey\"]"
   ]
  },
  {
   "cell_type": "code",
   "execution_count": null,
   "id": "11a19514",
   "metadata": {},
   "outputs": [],
   "source": [
    "# %%\n",
    "import os\n",
    "\n",
    "if not os.path.exists(\"../files/output/\"):\n",
    "    os.makedirs(\"../files/output/\")\n",
    "\n",
    "specific_columns.to_csv(\n",
    "    \"../files/output/specific-columns.csv\",\n",
    "    sep=\",\",\n",
    "    header=True,\n",
    "    index=False,\n",
    ")"
   ]
  }
 ],
 "metadata": {
  "kernelspec": {
   "display_name": ".venv",
   "language": "python",
   "name": "python3"
  },
  "language_info": {
   "codemirror_mode": {
    "name": "ipython",
    "version": 3
   },
   "file_extension": ".py",
   "mimetype": "text/x-python",
   "name": "python",
   "nbconvert_exporter": "python",
   "pygments_lexer": "ipython3",
   "version": "3.9.0"
  }
 },
 "nbformat": 4,
 "nbformat_minor": 5
}
